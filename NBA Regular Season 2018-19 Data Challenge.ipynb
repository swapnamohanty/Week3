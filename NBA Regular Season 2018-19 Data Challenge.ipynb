{
 "cells": [
  {
   "cell_type": "markdown",
   "metadata": {},
   "source": [
    "# Nba Regular Season 2018-19 Data Challenge\n",
    "\n",
    "Your task will be to take the dataset given, and create an analysis answering the following 10 questions. This project will again test your knowledge of pandas in order to find the answers needed given the data you are presented with."
   ]
  },
  {
   "cell_type": "markdown",
   "metadata": {},
   "source": [
    "# What was the average age of player in the league?"
   ]
  },
  {
   "cell_type": "code",
   "execution_count": 8,
   "metadata": {},
   "outputs": [
    {
     "data": {
      "text/html": [
       "<div>\n",
       "<style scoped>\n",
       "    .dataframe tbody tr th:only-of-type {\n",
       "        vertical-align: middle;\n",
       "    }\n",
       "\n",
       "    .dataframe tbody tr th {\n",
       "        vertical-align: top;\n",
       "    }\n",
       "\n",
       "    .dataframe thead th {\n",
       "        text-align: right;\n",
       "    }\n",
       "</style>\n",
       "<table border=\"1\" class=\"dataframe\">\n",
       "  <thead>\n",
       "    <tr style=\"text-align: right;\">\n",
       "      <th></th>\n",
       "      <th>Name</th>\n",
       "      <th>Height</th>\n",
       "      <th>Weight</th>\n",
       "      <th>Team</th>\n",
       "      <th>Age</th>\n",
       "      <th>Salary</th>\n",
       "      <th>Points</th>\n",
       "      <th>Blocks</th>\n",
       "      <th>Steals</th>\n",
       "      <th>Assists</th>\n",
       "      <th>...</th>\n",
       "      <th>MP</th>\n",
       "      <th>G</th>\n",
       "      <th>PER</th>\n",
       "      <th>OWS</th>\n",
       "      <th>DWS</th>\n",
       "      <th>WS</th>\n",
       "      <th>WS48</th>\n",
       "      <th>USG</th>\n",
       "      <th>BPM</th>\n",
       "      <th>VORP</th>\n",
       "    </tr>\n",
       "  </thead>\n",
       "  <tbody>\n",
       "    <tr>\n",
       "      <th>0</th>\n",
       "      <td>Alex Abrines</td>\n",
       "      <td>78</td>\n",
       "      <td>200</td>\n",
       "      <td>Oklahoma City Thunder</td>\n",
       "      <td>25</td>\n",
       "      <td>5455236.0</td>\n",
       "      <td>5.3</td>\n",
       "      <td>0.2</td>\n",
       "      <td>0.5</td>\n",
       "      <td>0.6</td>\n",
       "      <td>...</td>\n",
       "      <td>19.0</td>\n",
       "      <td>31</td>\n",
       "      <td>6.3</td>\n",
       "      <td>0.1</td>\n",
       "      <td>0.6</td>\n",
       "      <td>0.6</td>\n",
       "      <td>0.053</td>\n",
       "      <td>12.2</td>\n",
       "      <td>-3.4</td>\n",
       "      <td>-0.2</td>\n",
       "    </tr>\n",
       "    <tr>\n",
       "      <th>1</th>\n",
       "      <td>Quincy Acy</td>\n",
       "      <td>79</td>\n",
       "      <td>240</td>\n",
       "      <td>Phoenix Suns</td>\n",
       "      <td>28</td>\n",
       "      <td>213949.0</td>\n",
       "      <td>1.7</td>\n",
       "      <td>0.4</td>\n",
       "      <td>0.1</td>\n",
       "      <td>0.8</td>\n",
       "      <td>...</td>\n",
       "      <td>12.3</td>\n",
       "      <td>10</td>\n",
       "      <td>2.9</td>\n",
       "      <td>-0.1</td>\n",
       "      <td>0.0</td>\n",
       "      <td>-0.1</td>\n",
       "      <td>-0.022</td>\n",
       "      <td>9.2</td>\n",
       "      <td>-5.9</td>\n",
       "      <td>-0.1</td>\n",
       "    </tr>\n",
       "    <tr>\n",
       "      <th>2</th>\n",
       "      <td>Jaylen Adams</td>\n",
       "      <td>74</td>\n",
       "      <td>190</td>\n",
       "      <td>Atlanta Hawks</td>\n",
       "      <td>22</td>\n",
       "      <td>236854.0</td>\n",
       "      <td>3.2</td>\n",
       "      <td>0.1</td>\n",
       "      <td>0.4</td>\n",
       "      <td>1.9</td>\n",
       "      <td>...</td>\n",
       "      <td>12.6</td>\n",
       "      <td>34</td>\n",
       "      <td>7.6</td>\n",
       "      <td>-0.1</td>\n",
       "      <td>0.2</td>\n",
       "      <td>0.1</td>\n",
       "      <td>0.011</td>\n",
       "      <td>13.5</td>\n",
       "      <td>-4.4</td>\n",
       "      <td>-0.3</td>\n",
       "    </tr>\n",
       "    <tr>\n",
       "      <th>3</th>\n",
       "      <td>Steven Adams</td>\n",
       "      <td>84</td>\n",
       "      <td>265</td>\n",
       "      <td>Oklahoma City Thunder</td>\n",
       "      <td>25</td>\n",
       "      <td>24157304.0</td>\n",
       "      <td>13.9</td>\n",
       "      <td>1.0</td>\n",
       "      <td>1.5</td>\n",
       "      <td>1.6</td>\n",
       "      <td>...</td>\n",
       "      <td>33.4</td>\n",
       "      <td>80</td>\n",
       "      <td>18.5</td>\n",
       "      <td>5.1</td>\n",
       "      <td>4.0</td>\n",
       "      <td>9.1</td>\n",
       "      <td>0.163</td>\n",
       "      <td>16.4</td>\n",
       "      <td>2.7</td>\n",
       "      <td>3.2</td>\n",
       "    </tr>\n",
       "    <tr>\n",
       "      <th>4</th>\n",
       "      <td>Bam Adebayo</td>\n",
       "      <td>82</td>\n",
       "      <td>255</td>\n",
       "      <td>Miami Heat</td>\n",
       "      <td>21</td>\n",
       "      <td>2955840.0</td>\n",
       "      <td>8.9</td>\n",
       "      <td>0.8</td>\n",
       "      <td>0.9</td>\n",
       "      <td>2.2</td>\n",
       "      <td>...</td>\n",
       "      <td>23.3</td>\n",
       "      <td>82</td>\n",
       "      <td>17.9</td>\n",
       "      <td>3.4</td>\n",
       "      <td>3.4</td>\n",
       "      <td>6.8</td>\n",
       "      <td>0.171</td>\n",
       "      <td>15.8</td>\n",
       "      <td>3.0</td>\n",
       "      <td>2.4</td>\n",
       "    </tr>\n",
       "  </tbody>\n",
       "</table>\n",
       "<p>5 rows × 27 columns</p>\n",
       "</div>"
      ],
      "text/plain": [
       "           Name  Height  Weight                   Team  Age      Salary  \\\n",
       "0  Alex Abrines      78     200  Oklahoma City Thunder   25   5455236.0   \n",
       "1    Quincy Acy      79     240           Phoenix Suns   28    213949.0   \n",
       "2  Jaylen Adams      74     190          Atlanta Hawks   22    236854.0   \n",
       "3  Steven Adams      84     265  Oklahoma City Thunder   25  24157304.0   \n",
       "4   Bam Adebayo      82     255             Miami Heat   21   2955840.0   \n",
       "\n",
       "   Points  Blocks  Steals  Assists  ...    MP   G   PER  OWS  DWS   WS   WS48  \\\n",
       "0     5.3     0.2     0.5      0.6  ...  19.0  31   6.3  0.1  0.6  0.6  0.053   \n",
       "1     1.7     0.4     0.1      0.8  ...  12.3  10   2.9 -0.1  0.0 -0.1 -0.022   \n",
       "2     3.2     0.1     0.4      1.9  ...  12.6  34   7.6 -0.1  0.2  0.1  0.011   \n",
       "3    13.9     1.0     1.5      1.6  ...  33.4  80  18.5  5.1  4.0  9.1  0.163   \n",
       "4     8.9     0.8     0.9      2.2  ...  23.3  82  17.9  3.4  3.4  6.8  0.171   \n",
       "\n",
       "    USG  BPM  VORP  \n",
       "0  12.2 -3.4  -0.2  \n",
       "1   9.2 -5.9  -0.1  \n",
       "2  13.5 -4.4  -0.3  \n",
       "3  16.4  2.7   3.2  \n",
       "4  15.8  3.0   2.4  \n",
       "\n",
       "[5 rows x 27 columns]"
      ]
     },
     "execution_count": 8,
     "metadata": {},
     "output_type": "execute_result"
    }
   ],
   "source": [
    "import numpy as np\n",
    "import pandas as pd\n",
    "nba_data = pd.read_csv(r'C:\\Users\\swapn\\Downloads\\nbastats2018-2019.csv')\n",
    "nba_data['Salary'] = pd.to_numeric(nba_data['Salary'], errors='coerce')\n",
    "\n",
    "nba_data = nba_data.dropna()\n",
    "nba_data.isna().sum()\n",
    "nba_data.dtypes\n",
    "nba_data.head()\n",
    "\n",
    "#avg_age = nba_data['Age'].mean()\n",
    "#print('The average age of players in the league is:', avg_age)\n",
    "\n"
   ]
  },
  {
   "cell_type": "markdown",
   "metadata": {},
   "source": [
    "# What player scored the most points?"
   ]
  },
  {
   "cell_type": "code",
   "execution_count": 17,
   "metadata": {},
   "outputs": [
    {
     "name": "stdout",
     "output_type": "stream",
     "text": [
      "The player who scored the most points during the season was James Harden.\n"
     ]
    }
   ],
   "source": [
    "most_points = nba_data.loc[nba_data['Points'].idxmax(), 'Name']\n",
    "print(f\"The player who scored the most points during the season was {most_points}.\")"
   ]
  },
  {
   "cell_type": "markdown",
   "metadata": {},
   "source": [
    "# What player had the most blocks during the season? Was it a post player (F/C)?"
   ]
  },
  {
   "cell_type": "code",
   "execution_count": 19,
   "metadata": {},
   "outputs": [
    {
     "name": "stdout",
     "output_type": "stream",
     "text": [
      "The player who had the most blocks during the season was Myles Turner.\n",
      "Myles Turner is not a post player.\n"
     ]
    }
   ],
   "source": [
    "#nba_data['FT_Pct'] = nba_data['FGA'] / nba_data['FTA']\n",
    "#best_ft_pct_player = nba_data.loc[nba_data['FT_Pct'].idxmax(), 'Name']\n",
    "#print('The player with the best free throw percentage is:', best_ft_pct_player)\n",
    "most_blocks = nba_data.loc[nba_data['Blocks'].idxmax(), 'Name']\n",
    "position = nba_data.loc[nba_data['Blocks'].idxmax(), 'G']\n",
    "print(f\"The player who had the most blocks during the season was {most_blocks}.\")\n",
    "if position in ['C', 'PF']:\n",
    "    print(f\"{most_blocks} is a post player.\")\n",
    "else:\n",
    "    print(f\"{most_blocks} is not a post player.\")\n"
   ]
  },
  {
   "cell_type": "markdown",
   "metadata": {},
   "source": [
    "# Based on the regular season, who had the best chance to win a title given their win percentage?"
   ]
  },
  {
   "cell_type": "code",
   "execution_count": 21,
   "metadata": {},
   "outputs": [
    {
     "name": "stdout",
     "output_type": "stream",
     "text": [
      "The Golden State Warriors had the best win percentage during the regular season.\n"
     ]
    }
   ],
   "source": [
    "best_win_percentage = nba_data.groupby('Team')['FG%'].mean().idxmax()\n",
    "print(f\"The {best_win_percentage} had the best win percentage during the regular season.\")\n"
   ]
  },
  {
   "cell_type": "markdown",
   "metadata": {},
   "source": [
    "# What player had the best 3-pt percentage? "
   ]
  },
  {
   "cell_type": "code",
   "execution_count": 34,
   "metadata": {},
   "outputs": [
    {
     "name": "stdout",
     "output_type": "stream",
     "text": [
      "The player with the best 3-pt percentage is: Trevon Duval\n"
     ]
    }
   ],
   "source": [
    "best_3pt_pct_player = nba_data.loc[nba_data['FG3%'].idxmax(), 'Name']\n",
    "print('The player with the best 3-pt percentage is:', best_3pt_pct_player)"
   ]
  },
  {
   "cell_type": "markdown",
   "metadata": {},
   "source": [
    "# Who played the most minutes during the season"
   ]
  },
  {
   "cell_type": "code",
   "execution_count": 22,
   "metadata": {},
   "outputs": [
    {
     "name": "stdout",
     "output_type": "stream",
     "text": [
      "Bradley Beal played the most minutes during the season.\n"
     ]
    }
   ],
   "source": [
    "most_minutes = nba_data.loc[nba_data['MP'].idxmax(), 'Name']\n",
    "print(f\"{most_minutes} played the most minutes during the season.\")\n"
   ]
  },
  {
   "cell_type": "markdown",
   "metadata": {},
   "source": [
    "# What player given their player effiecency rating was the clutchest during the season?"
   ]
  },
  {
   "cell_type": "code",
   "execution_count": 23,
   "metadata": {},
   "outputs": [
    {
     "name": "stdout",
     "output_type": "stream",
     "text": [
      "Zhou Qi was the clutchest player during the season according to the player efficiency rating (PER).\n"
     ]
    }
   ],
   "source": [
    "clutchest_player = nba_data.loc[nba_data['PER'].idxmax(), 'Name']\n",
    "print(f\"{clutchest_player} was the clutchest player during the season according to the player efficiency rating (PER).\")"
   ]
  },
  {
   "cell_type": "markdown",
   "metadata": {},
   "source": [
    "# What team had the youngest roster?"
   ]
  },
  {
   "cell_type": "code",
   "execution_count": 12,
   "metadata": {},
   "outputs": [
    {
     "name": "stdout",
     "output_type": "stream",
     "text": [
      "The team with the youngest roster is: Chicago Bulls\n"
     ]
    }
   ],
   "source": [
    "team_avg_age = nba_data.groupby('Team')['Age'].mean()\n",
    "youngest_team = team_avg_age.idxmin()\n",
    "print('The team with the youngest roster is:', youngest_team)"
   ]
  },
  {
   "cell_type": "markdown",
   "metadata": {},
   "source": [
    "# Who is the highest paid player during the seasion?"
   ]
  },
  {
   "cell_type": "code",
   "execution_count": 9,
   "metadata": {},
   "outputs": [
    {
     "name": "stdout",
     "output_type": "stream",
     "text": [
      "The highest-paid player during the season was Stephen Curry, with a salary of $37457154.00.\n"
     ]
    }
   ],
   "source": [
    "\n",
    "\n",
    "# Find the highest-paid player\n",
    "nba_data.dtypes\n",
    "highest_paid = nba_data.loc[nba_data['Salary'].idxmax(), 'Name']\n",
    "salary = nba_data.loc[nba_data['Salary'].idxmax(), 'Salary']\n",
    "print(f\"The highest-paid player during the season was {highest_paid}, with a salary of ${salary:.2f}.\")\n",
    "\n"
   ]
  },
  {
   "cell_type": "markdown",
   "metadata": {},
   "source": [
    "# At the end of a game, who WOULDN'T you want on the Free Throw Line?"
   ]
  },
  {
   "cell_type": "code",
   "execution_count": 27,
   "metadata": {},
   "outputs": [
    {
     "name": "stdout",
     "output_type": "stream",
     "text": [
      "You wouldn't want Jacob Evans on the free throw line at the end of a game based on their free throw percentage.\n"
     ]
    }
   ],
   "source": [
    "ft_percentage = nba_data.loc[nba_data['FT%'].idxmin(), 'Name']\n",
    "print(f\"You wouldn't want {ft_percentage} on the free throw line at the end of a game based on their free throw percentage.\")"
   ]
  }
 ],
 "metadata": {
  "kernelspec": {
   "display_name": "Python 3",
   "language": "python",
   "name": "python3"
  },
  "language_info": {
   "codemirror_mode": {
    "name": "ipython",
    "version": 3
   },
   "file_extension": ".py",
   "mimetype": "text/x-python",
   "name": "python",
   "nbconvert_exporter": "python",
   "pygments_lexer": "ipython3",
   "version": "3.11.2"
  }
 },
 "nbformat": 4,
 "nbformat_minor": 2
}
