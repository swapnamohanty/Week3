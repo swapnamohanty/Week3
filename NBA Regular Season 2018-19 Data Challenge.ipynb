{
 "cells": [
  {
   "cell_type": "markdown",
   "metadata": {},
   "source": [
    "# Nba Regular Season 2018-19 Data Challenge\n",
    "\n",
    "Your task will be to take the dataset given, and create an analysis answering the following 10 questions. This project will again test your knowledge of pandas in order to find the answers needed given the data you are presented with."
   ]
  },
  {
   "cell_type": "markdown",
   "metadata": {},
   "source": [
    "# What was the average age of player in the league?"
   ]
  },
  {
   "cell_type": "code",
   "execution_count": 1,
   "metadata": {},
   "outputs": [
    {
     "name": "stdout",
     "output_type": "stream",
     "text": [
      "The average age of players in the league is: 26.168202764976957\n"
     ]
    }
   ],
   "source": [
    "import numpy as np\n",
    "import pandas as pd\n",
    "nba_data = pd.read_csv(r'C:\\Users\\swapn\\Downloads\\nbastats2018-2019.csv')\n",
    "nba_data['Salary'] = pd.to_numeric(nba_data['Salary'], errors='coerce')\n",
    "\n",
    "nba_data = nba_data.dropna()\n",
    "nba_data.isna().sum()\n",
    "nba_data.dtypes\n",
    "nba_data.head()\n",
    "\n",
    "avg_age = nba_data['Age'].mean()\n",
    "print('The average age of players in the league is:', avg_age)\n",
    "\n"
   ]
  },
  {
   "cell_type": "markdown",
   "metadata": {},
   "source": [
    "# What player scored the most points?"
   ]
  },
  {
   "cell_type": "code",
   "execution_count": 17,
   "metadata": {},
   "outputs": [
    {
     "name": "stdout",
     "output_type": "stream",
     "text": [
      "The player who scored the most points during the season was James Harden.\n"
     ]
    }
   ],
   "source": [
    "most_points = nba_data.loc[nba_data['Points'].idxmax(), 'Name']\n",
    "print(f\"The player who scored the most points during the season was {most_points}.\")"
   ]
  },
  {
   "cell_type": "markdown",
   "metadata": {},
   "source": [
    "# What player had the most blocks during the season? Was it a post player (F/C)?"
   ]
  },
  {
   "cell_type": "code",
   "execution_count": 19,
   "metadata": {},
   "outputs": [
    {
     "name": "stdout",
     "output_type": "stream",
     "text": [
      "The player who had the most blocks during the season was Myles Turner.\n",
      "Myles Turner is not a post player.\n"
     ]
    }
   ],
   "source": [
    "most_blocks = nba_data.loc[nba_data['Blocks'].idxmax(), 'Name']\n",
    "position = nba_data.loc[nba_data['Blocks'].idxmax(), 'G']\n",
    "print(f\"The player who had the most blocks during the season was {most_blocks}.\")\n",
    "if position in ['C', 'PF']:\n",
    "    print(f\"{most_blocks} is a post player.\")\n",
    "else:\n",
    "    print(f\"{most_blocks} is not a post player.\")\n"
   ]
  },
  {
   "cell_type": "markdown",
   "metadata": {},
   "source": [
    "# Based on the regular season, who had the best chance to win a title given their win percentage?"
   ]
  },
  {
   "cell_type": "code",
   "execution_count": 21,
   "metadata": {},
   "outputs": [
    {
     "name": "stdout",
     "output_type": "stream",
     "text": [
      "The Golden State Warriors had the best win percentage during the regular season.\n"
     ]
    }
   ],
   "source": [
    "best_win_percentage = nba_data.groupby('Team')['FG%'].mean().idxmax()\n",
    "print(f\"The {best_win_percentage} had the best win percentage during the regular season.\")\n"
   ]
  },
  {
   "cell_type": "markdown",
   "metadata": {},
   "source": [
    "# What player had the best 3-pt percentage? "
   ]
  },
  {
   "cell_type": "code",
   "execution_count": 34,
   "metadata": {},
   "outputs": [
    {
     "name": "stdout",
     "output_type": "stream",
     "text": [
      "The player with the best 3-pt percentage is: Trevon Duval\n"
     ]
    }
   ],
   "source": [
    "best_3pt_pct_player = nba_data.loc[nba_data['FG3%'].idxmax(), 'Name']\n",
    "print('The player with the best 3-pt percentage is:', best_3pt_pct_player)"
   ]
  },
  {
   "cell_type": "markdown",
   "metadata": {},
   "source": [
    "# Who played the most minutes during the season"
   ]
  },
  {
   "cell_type": "code",
   "execution_count": 22,
   "metadata": {},
   "outputs": [
    {
     "name": "stdout",
     "output_type": "stream",
     "text": [
      "Bradley Beal played the most minutes during the season.\n"
     ]
    }
   ],
   "source": [
    "most_minutes = nba_data.loc[nba_data['MP'].idxmax(), 'Name']\n",
    "print(f\"{most_minutes} played the most minutes during the season.\")\n"
   ]
  },
  {
   "cell_type": "markdown",
   "metadata": {},
   "source": [
    "# What player given their player effiecency rating was the clutchest during the season?"
   ]
  },
  {
   "cell_type": "code",
   "execution_count": 23,
   "metadata": {},
   "outputs": [
    {
     "name": "stdout",
     "output_type": "stream",
     "text": [
      "Zhou Qi was the clutchest player during the season according to the player efficiency rating (PER).\n"
     ]
    }
   ],
   "source": [
    "clutchest_player = nba_data.loc[nba_data['PER'].idxmax(), 'Name']\n",
    "print(f\"{clutchest_player} was the clutchest player during the season according to the player efficiency rating (PER).\")"
   ]
  },
  {
   "cell_type": "markdown",
   "metadata": {},
   "source": [
    "# What team had the youngest roster?"
   ]
  },
  {
   "cell_type": "code",
   "execution_count": 12,
   "metadata": {},
   "outputs": [
    {
     "name": "stdout",
     "output_type": "stream",
     "text": [
      "The team with the youngest roster is: Chicago Bulls\n"
     ]
    }
   ],
   "source": [
    "team_avg_age = nba_data.groupby('Team')['Age'].mean()\n",
    "youngest_team = team_avg_age.idxmin()\n",
    "print('The team with the youngest roster is:', youngest_team)"
   ]
  },
  {
   "cell_type": "markdown",
   "metadata": {},
   "source": [
    "# Who is the highest paid player during the seasion?"
   ]
  },
  {
   "cell_type": "code",
   "execution_count": 9,
   "metadata": {},
   "outputs": [
    {
     "name": "stdout",
     "output_type": "stream",
     "text": [
      "The highest-paid player during the season was Stephen Curry, with a salary of $37457154.00.\n"
     ]
    }
   ],
   "source": [
    "\n",
    "\n",
    "# Find the highest-paid player\n",
    "nba_data.dtypes\n",
    "highest_paid = nba_data.loc[nba_data['Salary'].idxmax(), 'Name']\n",
    "salary = nba_data.loc[nba_data['Salary'].idxmax(), 'Salary']\n",
    "print(f\"The highest-paid player during the season was {highest_paid}, with a salary of ${salary:.2f}.\")\n",
    "\n"
   ]
  },
  {
   "cell_type": "markdown",
   "metadata": {},
   "source": [
    "# At the end of a game, who WOULDN'T you want on the Free Throw Line?"
   ]
  },
  {
   "cell_type": "code",
   "execution_count": 27,
   "metadata": {},
   "outputs": [
    {
     "name": "stdout",
     "output_type": "stream",
     "text": [
      "You wouldn't want Jacob Evans on the free throw line at the end of a game based on their free throw percentage.\n"
     ]
    }
   ],
   "source": [
    "ft_percentage = nba_data.loc[nba_data['FT%'].idxmin(), 'Name']\n",
    "print(f\"You wouldn't want {ft_percentage} on the free throw line at the end of a game based on their free throw percentage.\")"
   ]
  }
 ],
 "metadata": {
  "kernelspec": {
   "display_name": "Python 3",
   "language": "python",
   "name": "python3"
  },
  "language_info": {
   "codemirror_mode": {
    "name": "ipython",
    "version": 3
   },
   "file_extension": ".py",
   "mimetype": "text/x-python",
   "name": "python",
   "nbconvert_exporter": "python",
   "pygments_lexer": "ipython3",
   "version": "3.11.2"
  }
 },
 "nbformat": 4,
 "nbformat_minor": 2
}
