{
  "cells": [
    {
      "cell_type": "markdown",
      "metadata": {
        "id": "KdERlTpFuL5V"
      },
      "source": [
        "# Exercises"
      ]
    },
    {
      "cell_type": "markdown",
      "metadata": {
        "id": "to-gsrQyuL5Z"
      },
      "source": [
        "### #1 - Calculate the BMI (body mass index) on the two lists below using NDArrays..."
      ]
    },
    {
      "cell_type": "code",
      "execution_count": 1,
      "metadata": {
        "id": "iZlf9DzeuL5a"
      },
      "outputs": [
        {
          "name": "stdout",
          "output_type": "stream",
          "text": [
            "[168662.0457887  178775.51020408 188256.2983535  197145.0617284\n",
            " 205479.45205479 213294.37545654 220622.22222222]\n"
          ]
        }
      ],
      "source": [
        "import numpy as np\n",
        "\n",
        "height = np.array([69, 70, 71, 72, 73, 74, 75])\n",
        "weight = np.array([110, 120, 130, 140, 150, 160, 170])\n",
        "\n",
        "# Calculate BMI using the given formula\n",
        "bmi = weight / (height / 100)**2 * 730\n",
        "\n",
        "# Print the result\n",
        "print(bmi)\n"
      ]
    },
    {
      "cell_type": "markdown",
      "metadata": {
        "id": "RSsT8w8ouL5b"
      },
      "source": [
        "### #2 - Create a function that will take in two parameters and will create a random matrix based off of those parameters. Extra: Have additional parameters taken in that allow the user to choose the shape and data type of the matrix."
      ]
    },
    {
      "cell_type": "code",
      "execution_count": 13,
      "metadata": {
        "id": "ygFvj0aeuL5b"
      },
      "outputs": [
        {
          "name": "stdout",
          "output_type": "stream",
          "text": [
            "[[0.69951438 0.23304088]\n",
            " [0.09563492 0.47997012]]\n",
            "[[0.37337628 0.68577384 0.05990098 0.53110043]\n",
            " [0.04267687 0.39637664 0.2183363  0.80721221]\n",
            " [0.88032762 0.63213898 0.86497251 0.3439053 ]]\n"
          ]
        }
      ],
      "source": [
        "\n",
        "import numpy as np\n",
        "\n",
        "def create_random_matrix(rows, cols, shape='square', dtype=float):\n",
        "    if shape == 'square':\n",
        "        size = max(rows, cols)\n",
        "        matrix = np.random.rand(size, size).astype(dtype)\n",
        "    elif shape == 'rectangle':\n",
        "        matrix = np.random.rand(rows, cols).astype(dtype)\n",
        "    else:\n",
        "        raise ValueError(\"Invalid shape type, choose either 'square' or 'rectangle'\")\n",
        "    return matrix\n",
        "print(create_random_matrix(2,2))\n",
        "print(create_random_matrix(3,4, shape='rectangle'))\n",
        "\n"
      ]
    },
    {
      "cell_type": "markdown",
      "metadata": {
        "id": "e5mP1UX9uL5c"
      },
      "source": [
        "### #3 - Extra: Open and load the data in the two text files that have the Boston Red Sox hitting data for the past seasons. Compare the difference in the two years by putting the data into an NDArray and running a differencial operation on it. The column to look for will be SLG.\n",
        "\n",
        "Your output should display which year (either 2017 or 2018) was a better year based on SLG"
      ]
    },
    {
      "cell_type": "code",
      "execution_count": null,
      "metadata": {
        "id": "iAExC-SjuL5c"
      },
      "outputs": [],
      "source": [
        "import csv\n",
        "import numpy as np\n",
        "\n",
        "\n"
      ]
    },
    {
      "cell_type": "code",
      "execution_count": null,
      "metadata": {},
      "outputs": [],
      "source": []
    },
    {
      "cell_type": "code",
      "execution_count": 35,
      "metadata": {
        "id": "P8Rwr8lmuL5e"
      },
      "outputs": [
        {
          "name": "stdout",
          "output_type": "stream",
          "text": [
            "SLG is better in 2017\n"
          ]
        }
      ],
      "source": [
        "FIELDS = ['Rk', 'Pos', 'Name', 'Age', 'G', 'PA', 'AB', 'R', 'H', '2B', '3B', 'HR', 'RBI', 'SB', 'CS', \n",
        "          'BB', 'SO', 'BA', 'OBP', 'SLG', 'OPS', 'OPS+', 'TB', 'GDP', 'HBP', 'SH', 'SF', 'IBB']\n",
        "\n",
        "DATATYPES = [('rk', 'i'), ('pos', '|S25'), ('name', '|S25'), ('age', 'i'), ('g', 'i'), ('pa', 'i'), ('ab', 'i'),\n",
        "                ('r', 'i'), ('h', 'i'), ('2b', 'i'), ('3b', 'i'), ('hr', 'i'), ('rbi', 'i'), ('sb', 'i'), ('cs', 'i'),\n",
        "                ('bb', 'i'), ('so', 'i'), ('ba', 'f'), ('obp', 'f'), ('slg', 'f'), ('ops', 'f'), ('opsp', 'i'),\n",
        "                ('tb', 'i'), ('gdp', 'i'), ('hbp', 'i'), ('sh', 'i'), ('sf', 'i'), ('ibb', 'i')]\n",
        "\n",
        "#Use this function to actually open the data inside of a NDArray\n",
        "import csv\n",
        "import numpy as np\n",
        "\n",
        "def load_data(filename, d = ','):\n",
        "    data = np.genfromtxt(filename,delimiter = d, skip_header = 1,\n",
        "                        usecols = np.arange(0,24),invalid_raise=False,\n",
        "                        names = FIELDS, dtype = DATATYPES)\n",
        "    return data\n",
        "\n",
        "bs2017 = load_data(r'C:\\Users\\swapn\\Downloads/redsox_2017_hitting.txt')\n",
        "bs2018 = load_data(r'C:\\Users\\swapn\\Downloads/redsox_2018_hitting.txt')\n",
        "\n",
        "length = len(bs2018['SLG'])\n",
        "length = len(bs2017['SLG'])\n",
        "\n",
        "if (sum(bs2018['SLG']) / length) < (sum(bs2017['SLG']) / length):\n",
        "    print(\"SLG is better in 2017\")\n",
        "else:\n",
        "    print(\"SLG is better in 2018\")    "
      ]
    }
  ],
  "metadata": {
    "colab": {
      "name": "Copy of Data_Science_Day_1_Exercises-Day1- Homework.ipynb",
      "provenance": []
    },
    "kernelspec": {
      "display_name": "Python 3",
      "language": "python",
      "name": "python3"
    },
    "language_info": {
      "codemirror_mode": {
        "name": "ipython",
        "version": 3
      },
      "file_extension": ".py",
      "mimetype": "text/x-python",
      "name": "python",
      "nbconvert_exporter": "python",
      "pygments_lexer": "ipython3",
      "version": "3.11.2"
    }
  },
  "nbformat": 4,
  "nbformat_minor": 0
}
