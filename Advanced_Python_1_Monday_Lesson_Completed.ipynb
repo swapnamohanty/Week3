{
  "cells": [
    {
      "attachments": {},
      "cell_type": "markdown",
      "metadata": {
        "id": "A3jUapQsAZn-"
      },
      "source": [
        "# Coding Temple's Data Analytics Course\n",
        "---\n",
        "## Advanced Python Day 1: Regular Expressions"
      ]
    },
    {
      "attachments": {},
      "cell_type": "markdown",
      "metadata": {
        "id": "PdLjKD4UAZn_"
      },
      "source": [
        "## Tasks today:\n",
        "1) <b>Importing</b> <br>\n",
        "2) <b>Using Regular Expressions</b> <br>\n",
        " &nbsp;&nbsp;&nbsp;&nbsp; a) re.compile() <br>\n",
        " &nbsp;&nbsp;&nbsp;&nbsp; b) re.match() <br>\n",
        " &nbsp;&nbsp;&nbsp;&nbsp; c) re.findall() <br>\n",
        " &nbsp;&nbsp;&nbsp;&nbsp; d) re.search() <br>\n",
        "3) <b>Sets</b> <br>\n",
        " &nbsp;&nbsp;&nbsp;&nbsp; a) Integer Ranges <br>\n",
        " &nbsp;&nbsp;&nbsp;&nbsp; b) Character Ranges <br>\n",
        "4) <b>Counting Occurences</b> <br>\n",
        " &nbsp;&nbsp;&nbsp;&nbsp; a) {x} <br>\n",
        " &nbsp;&nbsp;&nbsp;&nbsp; b) {, x} <br>\n",
        " &nbsp;&nbsp;&nbsp;&nbsp; c) {?} <br>\n",
        " &nbsp;&nbsp;&nbsp;&nbsp; d) {*} <br>\n",
        " &nbsp;&nbsp;&nbsp;&nbsp; e) {+} <br>\n",
        "5) <b>In-Class Exercise #1</b> <br>\n",
        "6) <b>Escaping Characters</b> <br>\n",
        "7) <b>Grouping</b> <br>\n",
        "8) <b>In-Class Exercise #2</b> <br>\n",
        "9) <b>Opening a File</b> <br>\n",
        " &nbsp;&nbsp;&nbsp;&nbsp; a) open() <br>\n",
        " &nbsp;&nbsp;&nbsp;&nbsp; b) with open() <br>\n",
        " &nbsp;&nbsp;&nbsp;&nbsp; c) re.match() <br>\n",
        " &nbsp;&nbsp;&nbsp;&nbsp; d) re.search() <br>\n",
        " &nbsp;&nbsp;&nbsp;&nbsp; e) Store the String in a Variable <br>\n",
        "10) <b>Regex Project</b> <br>"
      ]
    },
    {
      "cell_type": "markdown",
      "metadata": {
        "id": "PAC04z0nAZoA"
      },
      "source": [
        "### Importing <br>\n",
        "<p>Regular Expressions are universal throughout most programming languages... They are generally imported through the module 're'.</p>"
      ]
    },
    {
      "cell_type": "code",
      "execution_count": 1,
      "metadata": {
        "id": "SxP-cmPsAZoA"
      },
      "outputs": [],
      "source": [
        "#Import statments\n",
        "import re"
      ]
    },
    {
      "cell_type": "markdown",
      "metadata": {
        "id": "M7A6o9vXAZoB"
      },
      "source": [
        "### Using Regular Expressions <br>\n",
        "<p>Regular expressions give us the ability to search for patterns within text, strings, files, etc. They serve several uses, such as; security measures, searching, filtering, pattern recognition, and more...</p>"
      ]
    },
    {
      "cell_type": "markdown",
      "metadata": {
        "id": "LwC1v9vRAZoB"
      },
      "source": [
        "##### re.compile()"
      ]
    },
    {
      "cell_type": "code",
      "execution_count": 2,
      "metadata": {
        "id": "ldZfAB8FAZoB"
      },
      "outputs": [
        {
          "name": "stdout",
          "output_type": "stream",
          "text": [
            "Help on function compile in module re:\n",
            "\n",
            "compile(pattern, flags=0)\n",
            "    Compile a regular expression pattern, returning a Pattern object.\n",
            "\n",
            "None\n"
          ]
        }
      ],
      "source": [
        "# using compile, pre determines the string to be used in regular expression methods\n",
        "print(help(re.compile))\n",
        "pattern = re.compile('abcd')"
      ]
    },
    {
      "cell_type": "markdown",
      "metadata": {
        "id": "CvfW_ms2AZoC"
      },
      "source": [
        "##### re.match()"
      ]
    },
    {
      "cell_type": "code",
      "execution_count": 3,
      "metadata": {
        "id": "-zJbcV12AZoC"
      },
      "outputs": [
        {
          "name": "stdout",
          "output_type": "stream",
          "text": [
            "Help on function match in module re:\n",
            "\n",
            "match(pattern, string, flags=0)\n",
            "    Try to apply the pattern at the start of the string, returning\n",
            "    a Match object, or None if no match was found.\n",
            "\n",
            "None\n",
            "<re.Match object; span=(0, 4), match='abcd'>\n",
            "(0, 4)\n"
          ]
        },
        {
          "data": {
            "text/plain": [
              "'\\nregex101.com\\ngood resource to write and test regex with excellent breakdown walkthroughs\\non how the code executes.\\n'"
            ]
          },
          "execution_count": 3,
          "metadata": {},
          "output_type": "execute_result"
        }
      ],
      "source": [
        "print(help(re.match))\n",
        "match = pattern.match('abcd123')\n",
        "\n",
        "# Accessing the span of the match\n",
        "# span shows the range of the match found within the string given.\n",
        "print(match)\n",
        "print(match.span())\n",
        "\n",
        "\"\"\"\n",
        "regex101.com\n",
        "good resource to write and test regex with excellent breakdown walkthroughs\n",
        "on how the code executes.\n",
        "\"\"\""
      ]
    },
    {
      "cell_type": "markdown",
      "metadata": {
        "id": "b10Z-_c0AZoC"
      },
      "source": [
        "##### re.findall()"
      ]
    },
    {
      "cell_type": "code",
      "execution_count": 4,
      "metadata": {
        "id": "Edc4cN4yAZoC"
      },
      "outputs": [
        {
          "name": "stdout",
          "output_type": "stream",
          "text": [
            "Help on function findall in module re:\n",
            "\n",
            "findall(pattern, string, flags=0)\n",
            "    Return a list of all non-overlapping matches in the string.\n",
            "    \n",
            "    If one or more capturing groups are present in the pattern, return\n",
            "    a list of groups; this will be a list of tuples if the pattern\n",
            "    has more than one group.\n",
            "    \n",
            "    Empty matches are included in the result.\n",
            "\n",
            "None\n",
            "['abcd']\n"
          ]
        }
      ],
      "source": [
        "print(help(re.findall))\n",
        "finders = pattern.findall('abcd123')\n",
        "print(finders)"
      ]
    },
    {
      "cell_type": "markdown",
      "metadata": {
        "id": "YGpNo_XZAZoC"
      },
      "source": [
        "##### re.search()"
      ]
    },
    {
      "cell_type": "code",
      "execution_count": 5,
      "metadata": {
        "id": "0DolcygtAZoD"
      },
      "outputs": [
        {
          "name": "stdout",
          "output_type": "stream",
          "text": [
            "Help on function search in module re:\n",
            "\n",
            "search(pattern, string, flags=0)\n",
            "    Scan through string looking for a match to the pattern, returning\n",
            "    a Match object, or None if no match was found.\n",
            "\n",
            "None\n",
            "<re.Match object; span=(12, 16), match='abcd'>\n",
            "(12, 16) <class 'tuple'>\n",
            "abcd\n",
            "abcd\n"
          ]
        }
      ],
      "source": [
        "print(help(re.search))\n",
        "# Instantiate string\n",
        "random_string = '123 123 234 abcd abc'\n",
        "\n",
        "# Search string for pattern\n",
        "search = pattern.search(random_string)\n",
        "print(search)\n",
        "\n",
        "# Grab matching indicies and return them\n",
        "span = search.span()\n",
        "print(span, type(span))\n",
        "\n",
        "# Same thing except one is reproducible, one is not\n",
        "print(random_string[span[0]: span[1]])\n",
        "print(random_string[12:16])"
      ]
    },
    {
      "cell_type": "markdown",
      "metadata": {
        "id": "KbKNBUxLAZoD"
      },
      "source": [
        "### Sets <br>\n",
        "<p>The following cells will allow you to use regular expressions to search for certain values within a range such as numbers 1 through 4.</p>"
      ]
    },
    {
      "cell_type": "markdown",
      "metadata": {
        "id": "_2G-uS27AZoD"
      },
      "source": [
        "##### [a-z] or [A-Z] - any lowercase/uppercase letters from a to z<br/>[^2] - anything that's not 2"
      ]
    },
    {
      "cell_type": "markdown",
      "metadata": {
        "id": "H6y2Ls9aAZoD"
      },
      "source": [
        "##### Integer Ranges"
      ]
    },
    {
      "cell_type": "code",
      "execution_count": 6,
      "metadata": {},
      "outputs": [
        {
          "name": "stdout",
          "output_type": "stream",
          "text": [
            "383\n"
          ]
        }
      ],
      "source": [
        "# Compile an integer pattern and create integer string\n",
        "pattern_int = re.compile('[0-4][7-9][0-3]')\n",
        "int_str = '67383'\n",
        "\n",
        "# Search a string for all matching numbers\n",
        "random_numbers = pattern_int.search(int_str)\n",
        "\n",
        "# Find matching numbers and return them\n",
        "span = random_numbers.span()\n",
        "print(int_str[span[0]:span[1]])"
      ]
    },
    {
      "cell_type": "code",
      "execution_count": 7,
      "metadata": {
        "id": "FGn5mZlzAZoD"
      },
      "outputs": [
        {
          "name": "stdout",
          "output_type": "stream",
          "text": [
            "383\n"
          ]
        }
      ],
      "source": [
        "# Can also iterate over integer values using .search!\n",
        "# Compile an integer pattern and create integer string\n",
        "pattern_int = re.compile('[0-4][7-9][0-3]')\n",
        "int_str = 67383\n",
        "\n",
        "# Search a string for all matching numbers\n",
        "random_numbers = pattern_int.search(str(int_str))\n",
        "\n",
        "# Find matching numbers and return them\n",
        "span = random_numbers.span()\n",
        "print(str(int_str)[span[0]:span[1]])"
      ]
    },
    {
      "cell_type": "markdown",
      "metadata": {
        "id": "PgBHuJW2AZoD"
      },
      "source": [
        "##### Character Ranges"
      ]
    },
    {
      "cell_type": "code",
      "execution_count": 8,
      "metadata": {
        "id": "DPU6DLtZAZoD"
      },
      "outputs": [
        {
          "name": "stdout",
          "output_type": "stream",
          "text": [
            "['He', 'Th', 'Mr', 'An']\n"
          ]
        }
      ],
      "source": [
        "#Compile a character pattern and create string object\n",
        "char_pattern = re.compile('[A-Z][a-z]')\n",
        "my_str = 'Hello There Mr. Anderson'\n",
        "\n",
        "#Search string for all matching characters in patter and return them\n",
        "found = char_pattern.findall(my_str)\n",
        "print(found)"
      ]
    },
    {
      "cell_type": "markdown",
      "metadata": {
        "id": "cNrmcRxBAZoE"
      },
      "source": [
        "### Counting Occurences"
      ]
    },
    {
      "cell_type": "markdown",
      "metadata": {
        "id": "52zJm_dTAZoE"
      },
      "source": [
        "##### {x} - something that occurs {num_of_times}"
      ]
    },
    {
      "cell_type": "code",
      "execution_count": 9,
      "metadata": {
        "id": "OfFlvkxaAZoE"
      },
      "outputs": [
        {
          "name": "stdout",
          "output_type": "stream",
          "text": [
            "['An33']\n"
          ]
        }
      ],
      "source": [
        "\"\"\"\n",
        "What does this .compile do?\n",
        "Create pattern looking for uppercase letter, lowercase letter,\n",
        "and two digits between 0 and 3.\n",
        "\"\"\"\n",
        "char_pattern_count = re.compile('[A-Z][a-z][0-3]{2}')\n",
        "\n",
        "# Search a string for values matching the pattern and return them\n",
        "found_count = char_pattern_count.findall('Hello Mr. An33derson')\n",
        "print(found_count)"
      ]
    },
    {
      "cell_type": "markdown",
      "metadata": {
        "id": "S0BYqWlLAZoE"
      },
      "source": [
        "##### {x, x} - something that occurs between x and x times"
      ]
    },
    {
      "cell_type": "code",
      "execution_count": 10,
      "metadata": {
        "id": "YfOZVHsXAZoE"
      },
      "outputs": [
        {
          "name": "stdout",
          "output_type": "stream",
          "text": [
            "['m', 'mm', 'mmmmm', 'm', 'm']\n"
          ]
        }
      ],
      "source": [
        "\"\"\"\n",
        "What does this .compile do? \n",
        "\n",
        "Creates a pattern looking for any occurance of the letter 'm' where it occurs 1-5 times.\n",
        "\"\"\"\n",
        "random_pattern = re.compile('m{1,5}')\n",
        "\n",
        "# Search a string for values matching the pattern and return them\n",
        "random_statement = random_pattern.findall('m mm mmmmm this was a great soup! I am in love with tomato soup!')\n",
        "print(random_statement)"
      ]
    },
    {
      "cell_type": "markdown",
      "metadata": {
        "id": "3B6Nre9mAZoE"
      },
      "source": [
        "##### ? - something that occurs 0 or 1 time"
      ]
    },
    {
      "cell_type": "code",
      "execution_count": 11,
      "metadata": {
        "id": "_XAtCwCLAZoE"
      },
      "outputs": [
        {
          "name": "stdout",
          "output_type": "stream",
          "text": [
            "['Mrs']\n"
          ]
        }
      ],
      "source": [
        "\"\"\"\n",
        "What does this .compile do?\n",
        "\n",
        "Creates a pattern of 'Mrs'. The s? means we are looking for if this occurs. \n",
        "If it does not, it will ignore this character\n",
        "\"\"\"\n",
        "pattern = re.compile('Mrss?')\n",
        "\n",
        "# Search a string for values matching the pattern and return them\n",
        "found_pat = pattern.findall('Hello M there Nr. Anderson. How is Mrs.Anderson, and Ms.Anderson')\n",
        "print(found_pat)"
      ]
    },
    {
      "cell_type": "markdown",
      "metadata": {
        "id": "gP5_jLEpAZoE"
      },
      "source": [
        "##### * - something that occurs at least 0 times"
      ]
    },
    {
      "cell_type": "code",
      "execution_count": 12,
      "metadata": {
        "id": "5pf3JL1cAZoE"
      },
      "outputs": [
        {
          "name": "stdout",
          "output_type": "stream",
          "text": [
            "['MMMs', 's', 'Ms', 's', 's', 'Ms', 's', 's', 's', 's']\n"
          ]
        }
      ],
      "source": [
        "\"\"\"\n",
        "What does this .compile do?\n",
        "\n",
        "Creates a pattern for s with any number of captial M occurances preceding it.\n",
        "This pattern will also return any singular 's' values as the value M is not required to preceed it\n",
        "\"\"\"\n",
        "pattern_m = re.compile('M*s')\n",
        "\n",
        "# Search a string for values matching the pattern and return them\n",
        "found_m = pattern_m.findall('MMMs name is Ms.Smith. This is Msssss')\n",
        "print(found_m)"
      ]
    },
    {
      "cell_type": "markdown",
      "metadata": {
        "id": "9S37A82sAZoE"
      },
      "source": [
        "##### + - something that occurs at least once"
      ]
    },
    {
      "cell_type": "code",
      "execution_count": 13,
      "metadata": {
        "id": "PfyTRw_OAZoF"
      },
      "outputs": [
        {
          "name": "stdout",
          "output_type": "stream",
          "text": [
            "['Ms', 'MMMMMMMs']\n"
          ]
        }
      ],
      "source": [
        "\"\"\"\n",
        "What does this .compile do?\n",
        "\n",
        "Creates a pattern for s with at least 1 occurance of a captial M preceding it.\n",
        "\"\"\"\n",
        "pattern_again = re.compile('M+s')\n",
        "\n",
        "# Search a string for values matching the pattern and return them\n",
        "found_patt = pattern_again.findall(\"My name is Ms. Smith. This is MMMMMMMsssssss\")\n",
        "print(found_patt)"
      ]
    },
    {
      "cell_type": "markdown",
      "metadata": {
        "id": "KpVslvyuAZoF"
      },
      "source": [
        "##### In-class exercise 1: \n",
        "\n",
        "Use a regular expression to find every number in the given string"
      ]
    },
    {
      "cell_type": "code",
      "execution_count": 3,
      "metadata": {
        "id": "IyVgLkCSAZoF"
      },
      "outputs": [
        {
          "name": "stdout",
          "output_type": "stream",
          "text": [
            "['10909090', '1', '2']\n"
          ]
        }
      ],
      "source": [
        "import re\n",
        "my_string = 'This string has 10909090 numbers, but it is only 1 string. I hope you solve this 2day'\n",
        "pattern = '\\d[0-9]*'\n",
        "matches=re.findall(pattern,my_string)\n",
        "print(matches)\n",
        "\n",
        "# Output: ['10909090', '1', '2']\n"
      ]
    },
    {
      "cell_type": "markdown",
      "metadata": {
        "id": "h0NrOe0OAZoF"
      },
      "source": [
        "### Escaping Characters"
      ]
    },
    {
      "cell_type": "markdown",
      "metadata": {
        "id": "h4orJZqnAZoF"
      },
      "source": [
        "##### \\w - look for any Unicode character<br/>\\W - look for anything that isnt a Unicode character\n",
        "\n",
        "[History on Unicode](http://unicode.org/standard/WhatIsUnicode.html)\n",
        "\n",
        "[More on Unicode Characters](https://en.wikipedia.org/wiki/List_of_Unicode_characters)"
      ]
    },
    {
      "cell_type": "code",
      "execution_count": 15,
      "metadata": {
        "id": "Plsf-e0bAZoF"
      },
      "outputs": [
        {
          "name": "stdout",
          "output_type": "stream",
          "text": [
            "🔥🔥\n",
            "🔥\n",
            "🔥🔥\n"
          ]
        }
      ],
      "source": [
        "print('\\U0001f525\\U0001f525\\n\\U0001f525')\n",
        "print('\\U0001f525\\U0001f525')"
      ]
    },
    {
      "cell_type": "code",
      "execution_count": 16,
      "metadata": {},
      "outputs": [
        {
          "name": "stdout",
          "output_type": "stream",
          "text": [
            "['This', 'is', 'a', 'sentence', 'With', 'an', 'exclamation', 'mark', 'at', 'the', 'end']\n",
            "[' ', ' ', ' ', '. ', ' ', ', ', ' ', ' ', ' ', ' ', '!']\n"
          ]
        }
      ],
      "source": [
        "pattern_1 = re.compile('[\\w]+')\n",
        "pattern_2 = re.compile('[\\W]+')\n",
        "\n",
        "found_1 = pattern_1.findall('This is a sentence. With an, exclamation mark at the end!')\n",
        "found_2 = pattern_2.findall('This is a sentence. With an, exclamation mark at the end!')\n",
        "\n",
        "print(found_1)\n",
        "print(found_2)"
      ]
    },
    {
      "cell_type": "markdown",
      "metadata": {
        "id": "0iUynUmbAZoF"
      },
      "source": [
        "##### \\d - look for any digit 0-9<br/>\\D - look for anything that isnt a digit"
      ]
    },
    {
      "cell_type": "code",
      "execution_count": 17,
      "metadata": {
        "id": "day5uczJAZoF"
      },
      "outputs": [
        {
          "name": "stdout",
          "output_type": "stream",
          "text": [
            "['7th', '20 d', '27th', '3rd', '1st', '30th']\n"
          ]
        }
      ],
      "source": [
        "pattern_nums = re.compile('\\d{1,2}[\\D]{2}')\n",
        "\n",
        "found_date = pattern_nums.findall('Today is the 7th, in 20 days it will be the 27th. 3rd, 1st, 30th')\n",
        "print(found_date)"
      ]
    },
    {
      "cell_type": "markdown",
      "metadata": {
        "id": "s40MLh_BAZoF"
      },
      "source": [
        "##### \\s - look for any white space<br/>\\S - look for anything that isnt whitespace"
      ]
    },
    {
      "cell_type": "code",
      "execution_count": 18,
      "metadata": {
        "id": "7iygJ50-AZoG"
      },
      "outputs": [
        {
          "name": "stdout",
          "output_type": "stream",
          "text": [
            "[' ', ' ', ' ', ' ', ' ']\n",
            "['Are', 'you', 'afraid', 'of', 'the', 'dark']\n"
          ]
        }
      ],
      "source": [
        "pattern_no_space = re.compile('\\S[a-z]+')\n",
        "pattern_space = re.compile('\\s+')\n",
        "\n",
        "found_space = pattern_space.findall('Are you afraid of the dark')\n",
        "found_dark = pattern_no_space.findall('Are you afraid of the dark')\n",
        "\n",
        "print(found_space)\n",
        "print(found_dark)\n"
      ]
    },
    {
      "cell_type": "markdown",
      "metadata": {
        "id": "ocOxfZxHAZoG"
      },
      "source": [
        "##### \\b - look for boundaries or edges of a word<br/>\\B - look for anything that isnt a boundary"
      ]
    },
    {
      "cell_type": "code",
      "execution_count": 19,
      "metadata": {
        "id": "f_qVKVvsAZoG"
      },
      "outputs": [
        {
          "name": "stdout",
          "output_type": "stream",
          "text": [
            "[]\n",
            "['TheCodingTemple']\n"
          ]
        }
      ],
      "source": [
        "pattern_bound = re.compile(r'\\bTheCodingTemple\\b')\n",
        "pattern_bound_none = re.compile(r'\\BTheCodingTemple\\B')\n",
        "\n",
        "no_found_bound =pattern_bound_none.findall(\"TheCodingTemple\")\n",
        "pattern_bound_none_1 = pattern_bound.findall(\"TheCodingTemple\")\n",
        "\n",
        "print(no_found_bound)\n",
        "print(pattern_bound_none_1)"
      ]
    },
    {
      "cell_type": "markdown",
      "metadata": {
        "id": "M69Sj-rDAZoG"
      },
      "source": [
        "### Grouping"
      ]
    },
    {
      "cell_type": "code",
      "execution_count": 20,
      "metadata": {
        "id": "yWMQqGQkAZoG"
      },
      "outputs": [
        {
          "name": "stdout",
          "output_type": "stream",
          "text": [
            "[('Max', 'Smith'), ('Sam', 'Darnold'), ('LeBron', 'James'), ('Michael', 'Jordan'), ('Kevin', 'Durant'), ('Patrick', 'McCormik')]\n",
            "('Max', 'Smith')\n",
            "Not a Name\n",
            "('Sam', 'Darnold')\n",
            "('LeBron', 'James')\n",
            "('Michael', 'Jordan')\n",
            "('Kevin', 'Durant')\n",
            "('Patrick', 'McCormik')\n"
          ]
        }
      ],
      "source": [
        "my_string_again = \"Max Smith, aaron rodgers, Sam Darnold, LeBron James, Michael Jordan, Kevin Durant, Patrick McCormik\"\n",
        "\n",
        "\"\"\"\n",
        "What is this .compile statment doing?\n",
        "\n",
        "We search for patterns matching either pattern in our compile function.\n",
        "The first pattern is handling our name exceptions (i.e LeBron, McCormik), searching for a capital character\n",
        "followed by a lowercase, then another uppercase, then any additional lowercase characters that may come after.\n",
        "\n",
        "The second pattern searches for a capital character followed by any capital and lowercase letters that come after it.\n",
        "\"\"\"\n",
        "\n",
        "pattern_name = re.compile('([A-Z][a-zA-Za-z]+) ([A-Z][A-Za-z]+)')\n",
        "found_names = pattern_name.findall(my_string_again)\n",
        "print(found_names)\n",
        "\n",
        "# What if I want to see when my search is not adding an item to found_names?\n",
        "for name in my_string_again.split(','):\n",
        "    match = pattern_name.search(name)\n",
        "    if match:\n",
        "        print(match.groups(2))\n",
        "    else:\n",
        "        print('Not a Name')"
      ]
    },
    {
      "cell_type": "markdown",
      "metadata": {
        "id": "_9k6rLgMAZoG"
      },
      "source": [
        "##### In-class Exercise 2:\n",
        "\n",
        "Write a function using regular expressions to find the domain name in the given email addresses (and return None for the invalid email addresses)<br><b>HINT: Use '|' for either or</b>"
      ]
    },
    {
      "cell_type": "code",
      "execution_count": 1,
      "metadata": {
        "id": "H6q94xwIAZoG"
      },
      "outputs": [
        {
          "name": "stdout",
          "output_type": "stream",
          "text": [
            "None\n",
            "pocohontas1776@gmail.com\n",
            "None\n",
            "yourfavoriteband@g6.org\n",
            "None\n"
          ]
        }
      ],
      "source": [
        "import re\n",
        "my_emails = [\"jordanw@codingtemple.orgcom\", \"pocohontas1776@gmail.com\", \"helloworld@aol..com\",\n",
        "             \"yourfavoriteband@g6.org\", \"@codingtemple.com\"]\n",
        "\n",
        "# You can also use the $ at the end of your compile expression -- this stops the search\n",
        "\n",
        "#.com OR .org => com|org\n",
        "\n",
        "for email in my_emails:\n",
        "    match = re.match(r'^\\w+@\\w+\\.(com|org)$', email)\n",
        "    if match:\n",
        "        print(email)\n",
        "    else:\n",
        "        print(None)\n",
        "     \n",
        "\n",
        "#Expected output:\n",
        "#None\n",
        "#pocohontas1776@gmail.com\n",
        "#None\n",
        "#yourfavoriteband@g6.org\n",
        "#None\n",
        "\n",
        "\n"
      ]
    },
    {
      "cell_type": "markdown",
      "metadata": {
        "id": "7SvPDEPUAZoH"
      },
      "source": [
        "### Opening a File <br>\n",
        "<p>Python gives us a couple ways to import files, below are the two used most often.</p>"
      ]
    },
    {
      "cell_type": "markdown",
      "metadata": {
        "id": "7NshyCNvAZoH"
      },
      "source": [
        "##### open()"
      ]
    },
    {
      "cell_type": "code",
      "execution_count": 25,
      "metadata": {
        "id": "R06Sh5-FAZoH"
      },
      "outputs": [
        {
          "name": "stdout",
          "output_type": "stream",
          "text": [
            "Hawkins, Derek\tderek@codingtemple.com\t(555) 555-5555\tTeacher, Coding Temple\t@derekhawkins\n",
            "Zhai, Mo\tmozhai@codingtemple.com\t(555) 555-5554\tTeacher, Coding Temple\n",
            "Johnson, Joe\tjoejohnson@codingtemple.com\t\tJohson, Joe\n",
            "Osterberg, Sven-Erik\tgovernor@norrbotten.co.se\t\tGovernor, Norrbotten\t@sverik\n",
            ", Tim\ttim@killerrabbit.com\t\tEnchanter, Killer Rabbit Cave\n",
            "Butz, Ryan\tryanb@codingtemple.com\t(555) 555-5543\tCEO, Coding Temple\t@ryanbutz\n",
            "Doctor, The\tdoctor+companion@tardis.co.uk\t\tTime Lord, Gallifrey\n",
            "Exampleson, Example\tme@example.com\t555-555-5552\tExample, Example Co.\t@example\n",
            "Pael, Ripal\tripalp@codingtemple.com\t(555) 555-5553\tTeacher, Coding Temple\t@ripalp\n",
            "Vader, Darth\tdarth-vader@empire.gov\t(555) 555-4444\tSith Lord, Galactic Empire\t@darthvader\n",
            "Fernandez de la Vega Sanz, Maria Teresa\tmtfvs@spain.gov\t\tFirst Deputy Prime Minister, Spanish Gov\n",
            "\n",
            "<class 'str'>\n"
          ]
        }
      ],
      "source": [
        "# Open the file\n",
        "f = open(r'C:\\Users\\swapn\\Documents\\Regex\\names.txt')\n",
        "\n",
        "#Read the data\n",
        "data = f.read()\n",
        "\n",
        "#Print the data and type\n",
        "print(data)\n",
        "print(type(data))\n",
        "\n",
        "# Always close the file!\n",
        "f.close()"
      ]
    },
    {
      "cell_type": "markdown",
      "metadata": {
        "id": "ACOU8PwzAZoH"
      },
      "source": [
        "##### with open()"
      ]
    },
    {
      "cell_type": "code",
      "execution_count": 17,
      "metadata": {
        "id": "WTo40P6FAZoH"
      },
      "outputs": [
        {
          "name": "stdout",
          "output_type": "stream",
          "text": [
            "Hawkins, Derek\tderek@codingtemple.com\t(555) 555-5555\tTeacher, Coding Temple\t@derekhawkins\n",
            "Zhai, Mo\tmozhai@codingtemple.com\t(555) 555-5554\tTeacher, Coding Temple\n",
            "Johnson, Joe\tjoejohnson@codingtemple.com\t\tJohson, Joe\n",
            "Osterberg, Sven-Erik\tgovernor@norrbotten.co.se\t\tGovernor, Norrbotten\t@sverik\n",
            ", Tim\ttim@killerrabbit.com\t\tEnchanter, Killer Rabbit Cave\n",
            "Butz, Ryan\tryanb@codingtemple.com\t(555) 555-5543\tCEO, Coding Temple\t@ryanbutz\n",
            "Doctor, The\tdoctor+companion@tardis.co.uk\t\tTime Lord, Gallifrey\n",
            "Exampleson, Example\tme@example.com\t555-555-5552\tExample, Example Co.\t@example\n",
            "Pael, Ripal\tripalp@codingtemple.com\t(555) 555-5553\tTeacher, Coding Temple\t@ripalp\n",
            "Vader, Darth\tdarth-vader@empire.gov\t(555) 555-4444\tSith Lord, Galactic Empire\t@darthvader\n",
            "Fernandez de la Vega Sanz, Maria Teresa\tmtfvs@spain.gov\t\tFirst Deputy Prime Minister, Spanish Gov\n",
            "\n"
          ]
        }
      ],
      "source": [
        "with open(r'C:\\Users\\swapn\\Documents\\Regex\\names.txt',encoding='utf-8') as f:\n",
        "    data = f.read()\n",
        "    print(data)\n"
      ]
    },
    {
      "cell_type": "markdown",
      "metadata": {
        "id": "LeX9ZH_nAZoH"
      },
      "source": [
        "##### re.search()"
      ]
    },
    {
      "cell_type": "code",
      "execution_count": 35,
      "metadata": {
        "id": "UE5h5Z59AZoH"
      },
      "outputs": [
        {
          "data": {
            "text/plain": [
              "<re.Match object; span=(786, 809), match='ripalp@codingtemple.com'>"
            ]
          },
          "execution_count": 35,
          "metadata": {},
          "output_type": "execute_result"
        }
      ],
      "source": [
        "re.search(r'ripalp@codingtemple.com', data)"
      ]
    },
    {
      "cell_type": "markdown",
      "metadata": {
        "id": "89ATa2GmAZoI"
      },
      "source": [
        "##### Store the String to a Variable"
      ]
    },
    {
      "cell_type": "code",
      "execution_count": 51,
      "metadata": {
        "id": "eVZ7Ly1qAZoI"
      },
      "outputs": [
        {
          "name": "stdout",
          "output_type": "stream",
          "text": [
            "I found your data: ['Sith Lord']\n"
          ]
        }
      ],
      "source": [
        "answer = input(\"What would you like to search for..?\")\n",
        "found = re.findall(answer, data)\n",
        "if found:\n",
        "    print(f'I found your data: {found}')\n",
        "else:\n",
        "    print('Nothing here folks!')"
      ]
    },
    {
      "attachments": {},
      "cell_type": "markdown",
      "metadata": {
        "id": "SSiDJtVyAZoI"
      },
      "source": [
        "### In-Class Exercise #3 \n",
        "Print each persons name and twitter handle, using groups, should look like:\n",
        "==============\n",
        "   Full Name / Twitter\n",
        "   ==============\n",
        "Derek Hawkins / @derekhawkins\n",
        "\n",
        " Erik Sven-Osterberg / @sverik\n",
        "\n",
        " Ryan Butz / @ryanbutz\n",
        "\n",
        " Example Exampleson / @example\n",
        "\n",
        " Ripal Pael / @ripalp\n",
        "\n",
        " Darth Vader / @darthvader"
      ]
    },
    {
      "cell_type": "code",
      "execution_count": 2,
      "metadata": {
        "id": "xEI3yx-gAZoI",
        "scrolled": true
      },
      "outputs": [
        {
          "name": "stdout",
          "output_type": "stream",
          "text": [
            "==============================\n",
            "Full Name / Twitter\n",
            "==============================\n",
            "Derek Hawkins / @derekhawkins\n",
            "Erik Sven-Osterberg / @sverik\n",
            "Ryan Butz / @ryanbutz\n",
            "Example Exampleson / @example\n",
            "Ripal Pael / @ripalp\n",
            "Darth Vader / @darthvader\n"
          ]
        }
      ],
      "source": [
        "people = {\n",
        "    'Derek Hawkins': '@derekhawkins',\n",
        "    'Erik Sven-Osterberg': '@sverik',\n",
        "    'Ryan Butz': '@ryanbutz',\n",
        "    'Example Exampleson': '@example',\n",
        "    'Ripal Pael': '@ripalp',\n",
        "    'Darth Vader': '@darthvader'\n",
        "}\n",
        "\n",
        "print('='*30)\n",
        "print('Full Name / Twitter')\n",
        "print('='*30)\n",
        "\n",
        "for name, handle in people.items():\n",
        "    print(f'{name} / {handle}')            \n",
        "\t\t"
      ]
    },
    {
      "cell_type": "markdown",
      "metadata": {},
      "source": []
    },
    {
      "cell_type": "markdown",
      "metadata": {
        "id": "eAwupXwrAZoI"
      },
      "source": [
        "### Regex project\n",
        "\n",
        "Use python to read the file regex_test.txt and print the last name on each line using regular expressions and groups (return None for names with no first and last name, or names that aren't properly capitalized)\n",
        "##### Hint: use with open() and readlines()"
      ]
    },
    {
      "cell_type": "code",
      "execution_count": 25,
      "metadata": {
        "id": "9eGnLRbGAZoI"
      },
      "outputs": [
        {
          "data": {
            "text/plain": [
              "'\\nExpected Output\\nAbraham Lincoln\\nAndrew P Garfield\\nConnor Milliken\\nJordan Alexander Williams\\nNone\\nNone\\n'"
            ]
          },
          "execution_count": 25,
          "metadata": {},
          "output_type": "execute_result"
        }
      ],
      "source": [
        "\"\"\"\n",
        "Expected Output\n",
        "Abraham Lincoln\n",
        "Andrew P Garfield\n",
        "Connor Milliken\n",
        "Jordan Alexander Williams\n",
        "None\n",
        "None\n",
        "\"\"\""
      ]
    },
    {
      "cell_type": "code",
      "execution_count": 15,
      "metadata": {
        "id": "6SE1nVdpAZoI"
      },
      "outputs": [
        {
          "name": "stdout",
          "output_type": "stream",
          "text": [
            "Abraham Lincoln\n",
            "Andrew P Garfield\n",
            "Connor Milliken\n",
            "Jordan Alexander Williams\n",
            "Madonna\n",
            "programming is cool\n",
            "\n",
            "Abraham Lincoln\n",
            "Andrew P Garfield\n",
            "Connor Milliken\n",
            "Jordan Alexander Williams\n",
            "None\n",
            "None\n",
            "Abraham Lincoln\n",
            "Andrew P Garfield\n",
            "Connor Milliken\n",
            "Jordan Alexander Williams\n",
            "None\n",
            "None\n"
          ]
        }
      ],
      "source": [
        "with open(r'C:\\Users\\swapn\\Documents\\Regex\\regex_test.txt')as f:\n",
        "    data = f.read()\n",
        "    print(data)\n",
        "\n",
        "\n",
        "    import re\n",
        "\n",
        "names = [\"Abraham Lincoln\", \"Andrew P Garfield\", \"Connor Milliken\", \"Jordan Alexander Williams\", \"Madonna\", \"programming is cool\"]\n",
        "\n",
        "for name in names:\n",
        "    match = re.search('([A-Z][a-zA-Za-z]*)? ([A-Z][A-Za-z]*)([A-Za-z]*)+',name )\n",
        "    if match:\n",
        "        #name = match.groups()\n",
        "        print(name)\n",
        "    else:\n",
        "        print(None)\n",
        "\n",
        "#Using Group\n",
        "for name in names:\n",
        "    match = re.search(r'^([A-Z][a-z]+) ?([A-Z][a-z]*)? ([A-Z][a-z]+)$', name)\n",
        "    if match:\n",
        "        last_name = match.group()\n",
        "        print(last_name)\n",
        "    else:\n",
        "        print(None)\n",
        "                \n"
      ]
    }
  ],
  "metadata": {
    "colab": {
      "provenance": []
    },
    "kernelspec": {
      "display_name": "Python 3",
      "language": "python",
      "name": "python3"
    },
    "language_info": {
      "codemirror_mode": {
        "name": "ipython",
        "version": 3
      },
      "file_extension": ".py",
      "mimetype": "text/x-python",
      "name": "python",
      "nbconvert_exporter": "python",
      "pygments_lexer": "ipython3",
      "version": "3.11.2"
    },
    "vscode": {
      "interpreter": {
        "hash": "26de051ba29f2982a8de78e945f0abaf191376122a1563185a90213a26c5da77"
      }
    }
  },
  "nbformat": 4,
  "nbformat_minor": 0
}
